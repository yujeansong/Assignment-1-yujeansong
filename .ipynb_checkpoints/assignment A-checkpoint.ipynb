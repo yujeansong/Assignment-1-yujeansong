{
 "cells": [
  {
   "cell_type": "code",
   "execution_count": 16,
   "metadata": {},
   "outputs": [
    {
     "name": "stdout",
     "output_type": "stream",
     "text": [
      "        location  month  case_fatality_rate  total_cases  new_cases  \\\n",
      "312  Afghanistan      1            0.042522      51526.0        0.0   \n",
      "313  Afghanistan      1            0.042522      51526.0        0.0   \n",
      "314  Afghanistan      1            0.042522      51526.0        0.0   \n",
      "315  Afghanistan      1            0.042199      53011.0     1485.0   \n",
      "316  Afghanistan      1            0.042256      53105.0       94.0   \n",
      "\n",
      "     total_deaths  new_deaths  \n",
      "312        2191.0         0.0  \n",
      "313        2191.0         0.0  \n",
      "314        2191.0         0.0  \n",
      "315        2237.0        46.0  \n",
      "316        2244.0         7.0  \n"
     ]
    },
    {
     "data": {
      "image/png": "[encoded data removed]",
      "text/plain": [
       "<Figure size 432x288 with 1 Axes>"
      ]
     },
     "metadata": {
      "needs_background": "light"
     },
     "output_type": "display_data"
    },
    {
     "data": {
      "text/plain": [
       "<Figure size 432x288 with 0 Axes>"
      ]
     },
     "metadata": {},
     "output_type": "display_data"
    }
   ],
   "source": [
    "###Part A - Task1\n",
    "\n",
    "import pandas as pd\n",
    "\n",
    "import sys\n",
    "\n",
    "covid = pd.read_csv(\"owid-covid-data.csv\", encoding = \"UTF8\")\n",
    "\n",
    "covid = covid[[\"location\", \"date\", \"total_cases\", \"new_cases\", \"total_deaths\", \"new_deaths\"]]\n",
    "\n",
    "covid[covid[\"date\"].str[:4] == \"2020\"]\n",
    "\n",
    "#change datetime to integer month  \n",
    "covid[\"date\"] = covid[\"date\"].map(lambda x: int(x[5:7]))\n",
    "\n",
    "\n",
    "covid.insert(2, \"month\", covid[\"date\"])\n",
    "\n",
    "#delete the date column\n",
    "del covid[\"date\"]\n",
    "\n",
    "covid[\"case_fatality_rate\"] = (covid[\"total_deaths\"])/(covid[\"total_cases\"])\n",
    "\n",
    "#print the DataFrame sorted by location & month\n",
    "covid = covid[[\"location\", \"month\", \"case_fatality_rate\", \"total_cases\", \"new_cases\", \"total_deaths\", \"new_deaths\"]].sort_values(by = [\"location\", \"month\"])\n",
    "\n",
    "print(covid.head(5))\n",
    "\n",
    "covid.to_csv(sys.argv[1])\n",
    "\n",
    "###Part A - Task2\n",
    "\n",
    "import matplotlib.pyplot as plt\n",
    "\n",
    "#x-axis for new_cases & y-axis for case_fatality_rate\n",
    "plt.scatter(covid[\"new_cases\"], covid[\"case_fatality_rate\"])\n",
    "\n",
    "plt.ylabel(\"case_fatality_rate\")\n",
    "plt.xlabel(\"new_cases\")\n",
    "plt.grid(True)\n",
    "plt.savefig(sys.argv[1])\n",
    "\n",
    "plt.xscale(\"log\")\n",
    "plt.savefig(sys.argv[2])\n",
    "\n",
    "\n",
    "\n"
   ]
  },
  {
   "cell_type": "code",
   "execution_count": null,
   "metadata": {},
   "outputs": [],
   "source": [
    "\n"
   ]
  },
  {
   "cell_type": "code",
   "execution_count": null,
   "metadata": {},
   "outputs": [],
   "source": []
  }
 ],
 "metadata": {
  "kernelspec": {
   "display_name": "Python 3",
   "language": "python",
   "name": "python3"
  },
  "language_info": {
   "codemirror_mode": {
    "name": "ipython",
    "version": 3
   },
   "file_extension": ".py",
   "mimetype": "text/x-python",
   "name": "python",
   "nbconvert_exporter": "python",
   "pygments_lexer": "ipython3",
   "version": "3.7.4"
  }
 },
 "nbformat": 4,
 "nbformat_minor": 4
}
